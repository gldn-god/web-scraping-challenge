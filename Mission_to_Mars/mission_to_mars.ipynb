{
 "cells": [
  {
   "cell_type": "markdown",
   "metadata": {},
   "source": [
    "###### Import Dependencies & Chrome Driver"
   ]
  },
  {
   "cell_type": "code",
   "execution_count": 1,
   "metadata": {},
   "outputs": [],
   "source": [
    "# import dependencies\n",
    "from bs4 import BeautifulSoup as soup\n",
    "import pandas as pd\n",
    "from pprint import pprint\n",
    "import pymongo\n",
    "from splinter import Browser\n",
    "import time"
   ]
  },
  {
   "cell_type": "code",
   "execution_count": 2,
   "metadata": {},
   "outputs": [],
   "source": [
    "# choose path to driver (Chrome v91)\n",
    "executable_path = {'executable_path' : 'chromedriver'}\n",
    "browser = Browser(\n",
    "    'chrome', \n",
    "    **executable_path, \n",
    "    headless = False\n",
    ")\n",
    "\n",
    "# delay to allow time for page to load\n",
    "time.sleep(5)"
   ]
  },
  {
   "cell_type": "markdown",
   "metadata": {},
   "source": [
    "###### Scraping Web Text"
   ]
  },
  {
   "cell_type": "code",
   "execution_count": 3,
   "metadata": {},
   "outputs": [],
   "source": [
    "client = pymongo.MongoClient('mongodb://localhost:27017')\n",
    "db = client.mars_db\n",
    "collection = db.mars_data"
   ]
  },
  {
   "cell_type": "code",
   "execution_count": 4,
   "metadata": {},
   "outputs": [],
   "source": [
    "# navigate browser to url\n",
    "browser.visit('https://mars.nasa.gov/news/')\n",
    "\n",
    "# create beautifulsoup object\n",
    "article_soup = soup(browser.html, 'html.parser')\n",
    "\n",
    "# delay to allow time for page to load\n",
    "time.sleep(5)"
   ]
  },
  {
   "cell_type": "code",
   "execution_count": 5,
   "metadata": {},
   "outputs": [],
   "source": [
    "# narrow HTML elements by 'article'\n",
    "article_result = article_soup.find('article')\n",
    "\n",
    "# retrieve most recent article date, title, paragraph\n",
    "news_date = article_result.find('div', class_ = 'list_date').text.strip()\n",
    "news_title = article_result.find('div', class_ = 'content_title').text.strip()\n",
    "news_p = article_result.find('div', class_ = 'article_teaser_body').text.strip()"
   ]
  },
  {
   "cell_type": "code",
   "execution_count": 6,
   "metadata": {},
   "outputs": [],
   "source": [
    "# create dictionary for mongodb\n",
    "recent_news = {\n",
    "    'date' : news_date,\n",
    "    'title' : news_title,\n",
    "    'teaser' : news_p\n",
    "}"
   ]
  },
  {
   "cell_type": "markdown",
   "metadata": {},
   "source": [
    "###### Scraping Web Image"
   ]
  },
  {
   "cell_type": "code",
   "execution_count": 7,
   "metadata": {},
   "outputs": [],
   "source": [
    "# navigate browser to url, click full-res image\n",
    "browser.visit('https://data-class-jpl-space.s3.amazonaws.com/JPL_Space/index.html')\n",
    "browser.links.find_by_partial_text('FULL IMAGE').click()\n",
    "\n",
    "# create beautifulsoup object\n",
    "image_soup = soup(browser.html, 'html.parser')\n",
    "\n",
    "# delay to allow time for page to load\n",
    "time.sleep(5)"
   ]
  },
  {
   "cell_type": "code",
   "execution_count": 8,
   "metadata": {},
   "outputs": [],
   "source": [
    "# extract image source url\n",
    "image_result = image_soup.find(class_ = 'fancybox-image')['src']"
   ]
  },
  {
   "cell_type": "code",
   "execution_count": 9,
   "metadata": {},
   "outputs": [],
   "source": [
    "# append urls\n",
    "featured_image_url = 'https://data-class-jpl-space.s3.amazonaws.com/JPL_Space/' + image_result"
   ]
  },
  {
   "cell_type": "code",
   "execution_count": 10,
   "metadata": {},
   "outputs": [],
   "source": [
    "# create dictionary for mongodb\n",
    "featured_image = {\n",
    "    'featured_image_url' : featured_image_url\n",
    "}"
   ]
  },
  {
   "cell_type": "markdown",
   "metadata": {},
   "source": [
    "###### Converting HTML table to DataFrame, convert back to HTML"
   ]
  },
  {
   "cell_type": "code",
   "execution_count": 11,
   "metadata": {},
   "outputs": [],
   "source": [
    "# navigate browser to url\n",
    "browser.visit('https://space-facts.com/mars/')\n",
    "\n",
    "# create beautifulsoup object\n",
    "fact_soup = soup(browser.html, 'html.parser')\n",
    "\n",
    "# delay to allow time for page to load\n",
    "time.sleep(5)"
   ]
  },
  {
   "cell_type": "code",
   "execution_count": 12,
   "metadata": {},
   "outputs": [],
   "source": [
    "# convert html table to dataframe\n",
    "fact_df = pd.read_html('https://space-facts.com/mars/')[0]"
   ]
  },
  {
   "cell_type": "code",
   "execution_count": 13,
   "metadata": {},
   "outputs": [],
   "source": [
    "# convert dataframe to html\n",
    "fact_html = fact_df.to_html(index = False, header = False)"
   ]
  },
  {
   "cell_type": "code",
   "execution_count": 14,
   "metadata": {},
   "outputs": [],
   "source": [
    "# create dictionary for mongodb\n",
    "facts = {\n",
    "    'html_table' : fact_html\n",
    "}"
   ]
  },
  {
   "cell_type": "markdown",
   "metadata": {},
   "source": [
    "###### Mars Hemispheres"
   ]
  },
  {
   "cell_type": "code",
   "execution_count": 15,
   "metadata": {},
   "outputs": [],
   "source": [
    "# navigate browser to url\n",
    "browser.visit('https://astrogeology.usgs.gov/search/results?q=hemisphere+enhanced&k1=target&v1=Mars')\n",
    "\n",
    "# create beautifulsoup object\n",
    "hemi_soup = soup(browser.html, 'html.parser')\n",
    "\n",
    "# delay to allow time for page to load\n",
    "time.sleep(5)"
   ]
  },
  {
   "cell_type": "code",
   "execution_count": 16,
   "metadata": {},
   "outputs": [],
   "source": [
    "# grab hemisphere HTML elements\n",
    "hemisphere_content = hemi_soup.find_all('div', class_ = 'item')"
   ]
  },
  {
   "cell_type": "code",
   "execution_count": 19,
   "metadata": {},
   "outputs": [],
   "source": [
    "# create list for hemisphere info\n",
    "hemisphere_images = []\n",
    "\n",
    "# retrieve hemisphere info\n",
    "for hemisphere in hemisphere_content:\n",
    "    # create empty dictionary for hemisphere img urls\n",
    "    hemi_url = {}\n",
    "    \n",
    "    # assign image titles for hemispheres\n",
    "    title = hemisphere.find('div', class_='description').h3.text\n",
    "    hemi_url['title'] = title\n",
    "    \n",
    "    # delay to allow time for page to load\n",
    "    time.sleep(1)\n",
    "    browser.find_by_text(title).click()\n",
    "    hemi_soup = soup(browser.html, 'html.parser')\n",
    "    \n",
    "    # find, append img href\n",
    "    download = hemi_soup.find('div', class_ = \"downloads\")\n",
    "    src = download.find('a')\n",
    "    if src.text == 'Sample':\n",
    "        img_url = src['href']\n",
    "        hemi_url['img_url'] = img_url\n",
    "    \n",
    "    # append urls to hemisphere dictionary\n",
    "    hemisphere_images.append(hemi_url)\n",
    "    time.sleep(1)\n",
    "    browser.back()"
   ]
  },
  {
   "cell_type": "code",
   "execution_count": 20,
   "metadata": {},
   "outputs": [],
   "source": [
    "# create dictionary for mongodb\n",
    "# hemispheres = {\n",
    "#     'html_table' : fact_html\n",
    "# }"
   ]
  },
  {
   "cell_type": "code",
   "execution_count": 21,
   "metadata": {},
   "outputs": [],
   "source": [
    "# close browser\n",
    "browser.quit()"
   ]
  },
  {
   "cell_type": "code",
   "execution_count": 28,
   "metadata": {},
   "outputs": [
    {
     "data": {
      "text/plain": [
       "<pymongo.results.InsertOneResult at 0x220c0688dc0>"
      ]
     },
     "execution_count": 28,
     "metadata": {},
     "output_type": "execute_result"
    }
   ],
   "source": [
    "# clear any existing data\n",
    "collection.delete_many({})\n",
    "\n",
    "# load new data\n",
    "collection.insert_one(recent_news)\n",
    "collection.insert_one(featured_image)\n",
    "collection.insert_one(facts)\n",
    "#collection.insert_one(hemisphere_images)"
   ]
  },
  {
   "cell_type": "code",
   "execution_count": 29,
   "metadata": {},
   "outputs": [
    {
     "name": "stdout",
     "output_type": "stream",
     "text": [
      "{'_id': ObjectId('60bd48976c76e0e9b14d75ec'), 'date': 'June  3, 2021', 'title': \"NASA's InSight Mars Lander Gets a Power Boost\", 'teaser': 'The spacecraft successfully cleared some dust off its solar panels, helping to raise its energy and delay when it will need to switch off its science instruments.'}\n",
      "{'_id': ObjectId('60bd48976c76e0e9b14d75ed'), 'featured_image_url': 'https://data-class-jpl-space.s3.amazonaws.com/JPL_Space/image/featured/mars3.jpg'}\n",
      "{'_id': ObjectId('60bd48976c76e0e9b14d75ee'), 'html_table': '<table border=\"1\" class=\"dataframe\">\\n  <tbody>\\n    <tr>\\n      <td>Equatorial Diameter:</td>\\n      <td>6,792 km</td>\\n    </tr>\\n    <tr>\\n      <td>Polar Diameter:</td>\\n      <td>6,752 km</td>\\n    </tr>\\n    <tr>\\n      <td>Mass:</td>\\n      <td>6.39 × 10^23 kg (0.11 Earths)</td>\\n    </tr>\\n    <tr>\\n      <td>Moons:</td>\\n      <td>2 (Phobos &amp; Deimos)</td>\\n    </tr>\\n    <tr>\\n      <td>Orbit Distance:</td>\\n      <td>227,943,824 km (1.38 AU)</td>\\n    </tr>\\n    <tr>\\n      <td>Orbit Period:</td>\\n      <td>687 days (1.9 years)</td>\\n    </tr>\\n    <tr>\\n      <td>Surface Temperature:</td>\\n      <td>-87 to -5 °C</td>\\n    </tr>\\n    <tr>\\n      <td>First Record:</td>\\n      <td>2nd millennium BC</td>\\n    </tr>\\n    <tr>\\n      <td>Recorded By:</td>\\n      <td>Egyptian astronomers</td>\\n    </tr>\\n  </tbody>\\n</table>'}\n"
     ]
    }
   ],
   "source": [
    "# Using find() query all the documents from the collection\n",
    "\n",
    "for document in collection.find():\n",
    "\n",
    "    # print each document\n",
    "\n",
    "    print(document)"
   ]
  },
  {
   "cell_type": "code",
   "execution_count": null,
   "metadata": {},
   "outputs": [],
   "source": []
  }
 ],
 "metadata": {
  "kernelspec": {
   "display_name": "Python 3",
   "language": "python",
   "name": "python3"
  },
  "language_info": {
   "codemirror_mode": {
    "name": "ipython",
    "version": 3
   },
   "file_extension": ".py",
   "mimetype": "text/x-python",
   "name": "python",
   "nbconvert_exporter": "python",
   "pygments_lexer": "ipython3",
   "version": "3.8.5"
  }
 },
 "nbformat": 4,
 "nbformat_minor": 4
}
