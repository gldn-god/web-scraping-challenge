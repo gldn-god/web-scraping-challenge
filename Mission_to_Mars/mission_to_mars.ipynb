{
 "cells": [
  {
   "cell_type": "markdown",
   "metadata": {},
   "source": [
    "###### Import Dependencies & Chrome Driver"
   ]
  },
  {
   "cell_type": "code",
   "execution_count": 4,
   "metadata": {},
   "outputs": [],
   "source": [
    "# import dependencies\n",
    "from bs4 import BeautifulSoup as soup\n",
    "import pandas as pd\n",
    "from pprint import pprint\n",
    "from splinter import Browser\n",
    "import time"
   ]
  },
  {
   "cell_type": "code",
   "execution_count": 5,
   "metadata": {},
   "outputs": [],
   "source": [
    "# choose path to driver (Chrome v91)\n",
    "executable_path = {'executable_path' : 'chromedriver'}\n",
    "browser = Browser(\n",
    "    'chrome', \n",
    "    **executable_path, \n",
    "    headless = False\n",
    ")\n",
    "\n",
    "# delay to allow time for page to load\n",
    "time.sleep(5)"
   ]
  },
  {
   "cell_type": "markdown",
   "metadata": {},
   "source": [
    "###### Scraping Web Text"
   ]
  },
  {
   "cell_type": "code",
   "execution_count": null,
   "metadata": {},
   "outputs": [],
   "source": [
    "# navigate browser to url\n",
    "browser.visit('https://mars.nasa.gov/news/')\n",
    "\n",
    "# create beautifulsoup object\n",
    "article_soup = soup(browser.html, 'html.parser')\n",
    "\n",
    "# delay to allow time for page to load\n",
    "time.sleep(5)"
   ]
  },
  {
   "cell_type": "code",
   "execution_count": null,
   "metadata": {},
   "outputs": [],
   "source": [
    "# narrow HTML elements by 'article'\n",
    "article_result = article_soup.find('article')\n",
    "\n",
    "# retrieve most recent article date, title, paragraph\n",
    "news_date = article_result.find('div', class_ = 'list_date').text.strip()\n",
    "news_title = article_result.find('div', class_ = 'content_title').text.strip()\n",
    "news_p = article_result.find('div', class_ = 'article_teaser_body').text.strip()"
   ]
  },
  {
   "cell_type": "markdown",
   "metadata": {},
   "source": [
    "###### Scraping Web Image"
   ]
  },
  {
   "cell_type": "code",
   "execution_count": null,
   "metadata": {},
   "outputs": [],
   "source": [
    "# navigate browser to url, click full-res image\n",
    "browser.visit('https://data-class-jpl-space.s3.amazonaws.com/JPL_Space/index.html')\n",
    "browser.links.find_by_partial_text('FULL IMAGE').click()\n",
    "\n",
    "# create beautifulsoup object\n",
    "image_soup = soup(browser.html, 'html.parser')\n",
    "\n",
    "# delay to allow time for page to load\n",
    "time.sleep(5)"
   ]
  },
  {
   "cell_type": "code",
   "execution_count": null,
   "metadata": {},
   "outputs": [],
   "source": [
    "# extract image source url\n",
    "image_result = image_soup.find(class_ = 'fancybox-image')['src']"
   ]
  },
  {
   "cell_type": "code",
   "execution_count": null,
   "metadata": {},
   "outputs": [],
   "source": [
    "# append urls\n",
    "featured_image_url = 'https://data-class-jpl-space.s3.amazonaws.com/JPL_Space/' + image_result"
   ]
  },
  {
   "cell_type": "markdown",
   "metadata": {},
   "source": [
    "###### Converting HTML table to DataFrame, convert back to HTML"
   ]
  },
  {
   "cell_type": "code",
   "execution_count": null,
   "metadata": {},
   "outputs": [],
   "source": [
    "# navigate browser to url\n",
    "browser.visit('https://space-facts.com/mars/')\n",
    "\n",
    "# create beautifulsoup object\n",
    "fact_soup = soup(browser.html, 'html.parser')\n",
    "\n",
    "# delay to allow time for page to load\n",
    "time.sleep(5)"
   ]
  },
  {
   "cell_type": "code",
   "execution_count": null,
   "metadata": {},
   "outputs": [],
   "source": [
    "# convert html table to dataframe\n",
    "fact_df = pd.read_html('https://space-facts.com/mars/')[0]"
   ]
  },
  {
   "cell_type": "code",
   "execution_count": null,
   "metadata": {},
   "outputs": [],
   "source": [
    "# convert dataframe to html\n",
    "fact_html = fact_df.to_html(index = False, header = False)"
   ]
  },
  {
   "cell_type": "markdown",
   "metadata": {},
   "source": [
    "###### Mars Hemispheres"
   ]
  },
  {
   "cell_type": "code",
   "execution_count": null,
   "metadata": {},
   "outputs": [],
   "source": [
    "# navigate browser to url\n",
    "browser.visit('https://astrogeology.usgs.gov/search/results?q=hemisphere+enhanced&k1=target&v1=Mars')\n",
    "\n",
    "# create beautifulsoup object\n",
    "hemi_soup = soup(browser.html, 'html.parser')\n",
    "\n",
    "# delay to allow time for page to load\n",
    "time.sleep(5)"
   ]
  },
  {
   "cell_type": "code",
   "execution_count": null,
   "metadata": {},
   "outputs": [],
   "source": [
    "# grab hemisphere HTML elements\n",
    "hemisphere_content = hemi_soup.find_all('div', class_ = 'item')"
   ]
  },
  {
   "cell_type": "code",
   "execution_count": null,
   "metadata": {},
   "outputs": [],
   "source": [
    "# create list for hemisphere info\n",
    "hemisphere_images = []\n",
    "\n",
    "# retrieve hemisphere info\n",
    "for hemisphere in hemisphere_content:\n",
    "    # create empty dictionary for hemisphere img urls\n",
    "    hemi_url = {}\n",
    "    \n",
    "    # assign image titles for hemispheres\n",
    "    title = hemisphere.find('div', class_='description').h3.text\n",
    "    hemi_url['title'] = title\n",
    "    \n",
    "    # delay to allow time for page to load\n",
    "    time.sleep(1)\n",
    "    browser.find_by_text(title).click()\n",
    "    hemi_soup = soup(browser.html, 'html.parser')\n",
    "    \n",
    "    # find, append img href\n",
    "    download = hemi_soup.find('div', class_ = \"downloads\")\n",
    "    src = download.find('a')\n",
    "    if src.text == 'Sample':\n",
    "        img_url = src['href']\n",
    "        hemi_url['img_url'] = img_url\n",
    "    \n",
    "    # append urls to hemisphere dictionary\n",
    "    hemisphere_images.append(hemi_url)\n",
    "    time.sleep(1)\n",
    "    browser.back()"
   ]
  },
  {
   "cell_type": "code",
   "execution_count": null,
   "metadata": {},
   "outputs": [],
   "source": [
    "# close browser\n",
    "browser.quit()"
   ]
  }
 ],
 "metadata": {
  "kernelspec": {
   "display_name": "Python 3",
   "language": "python",
   "name": "python3"
  },
  "language_info": {
   "codemirror_mode": {
    "name": "ipython",
    "version": 3
   },
   "file_extension": ".py",
   "mimetype": "text/x-python",
   "name": "python",
   "nbconvert_exporter": "python",
   "pygments_lexer": "ipython3",
   "version": "3.8.5"
  }
 },
 "nbformat": 4,
 "nbformat_minor": 4
}
