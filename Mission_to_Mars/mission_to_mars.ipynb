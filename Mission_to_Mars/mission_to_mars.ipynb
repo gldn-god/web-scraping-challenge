{
 "cells": [
  {
   "cell_type": "markdown",
   "metadata": {},
   "source": [
    "###### Import Dependencies & Chrome Driver"
   ]
  },
  {
   "cell_type": "code",
   "execution_count": 1,
   "metadata": {},
   "outputs": [],
   "source": [
    "# import dependencies\n",
    "from bs4 import BeautifulSoup\n",
    "import pandas as pd\n",
    "from pprint import pprint\n",
    "from splinter import Browser\n",
    "import time"
   ]
  },
  {
   "cell_type": "code",
   "execution_count": 2,
   "metadata": {},
   "outputs": [],
   "source": [
    "# choose path to driver (Chrome v91)\n",
    "executable_path = {'executable_path' : 'chromedriver'}\n",
    "browser = Browser(\n",
    "    'chrome', \n",
    "    **executable_path, \n",
    "    headless = False\n",
    ")\n",
    "\n",
    "# delay to allow time for page to load\n",
    "time.sleep(5)"
   ]
  },
  {
   "cell_type": "markdown",
   "metadata": {},
   "source": [
    "###### Scraping Most Recent Article"
   ]
  },
  {
   "cell_type": "code",
   "execution_count": 3,
   "metadata": {},
   "outputs": [],
   "source": [
    "# navigate browser to url\n",
    "browser.visit('https://mars.nasa.gov/news/')\n",
    "\n",
    "# delay to allow time for page to load\n",
    "time.sleep(5)\n",
    "\n",
    "# create beautifulsoup object\n",
    "article_soup = BeautifulSoup(browser.html, 'html.parser')"
   ]
  },
  {
   "cell_type": "code",
   "execution_count": 4,
   "metadata": {},
   "outputs": [],
   "source": [
    "# narrow HTML elements by 'article'\n",
    "article_result = article_soup.find('article')\n",
    "\n",
    "# retrieve most recent article date, title, paragraph\n",
    "news_date = article_result.find('div', class_ = 'list_date').get_text()\n",
    "news_title = article_result.find('div', class_ = 'content_title').get_text()\n",
    "news_p = article_result.find('div', class_ = 'article_teaser_body').get_text()"
   ]
  },
  {
   "cell_type": "markdown",
   "metadata": {},
   "source": [
    "###### Scraping Featured Image"
   ]
  },
  {
   "cell_type": "code",
   "execution_count": 5,
   "metadata": {},
   "outputs": [],
   "source": [
    "# navigate browser to url, click full-res image\n",
    "browser.visit('https://data-class-jpl-space.s3.amazonaws.com/JPL_Space/index.html')\n",
    "browser.links.find_by_partial_text('FULL IMAGE').click()\n",
    "\n",
    "# delay to allow time for page to load\n",
    "time.sleep(5)\n",
    "\n",
    "# create beautifulsoup object\n",
    "image_soup = BeautifulSoup(browser.html, 'html.parser')"
   ]
  },
  {
   "cell_type": "code",
   "execution_count": 6,
   "metadata": {},
   "outputs": [],
   "source": [
    "# extract image source url\n",
    "image_result = image_soup.find(class_ = 'fancybox-image')['src']"
   ]
  },
  {
   "cell_type": "code",
   "execution_count": 7,
   "metadata": {},
   "outputs": [],
   "source": [
    "# append urls\n",
    "featured_image_url = 'https://data-class-jpl-space.s3.amazonaws.com/JPL_Space/' + image_result"
   ]
  },
  {
   "cell_type": "markdown",
   "metadata": {},
   "source": [
    "###### Converting HTML table to DataFrame, convert back to HTML"
   ]
  },
  {
   "cell_type": "code",
   "execution_count": 8,
   "metadata": {},
   "outputs": [],
   "source": [
    "# navigate browser to url\n",
    "browser.visit('https://space-facts.com/mars/')\n",
    "\n",
    "# delay to allow time for page to load\n",
    "time.sleep(5)\n",
    "\n",
    "# create beautifulsoup object\n",
    "fact_soup = BeautifulSoup(browser.html, 'html.parser')"
   ]
  },
  {
   "cell_type": "code",
   "execution_count": 9,
   "metadata": {},
   "outputs": [],
   "source": [
    "# convert html table to dataframe\n",
    "fact_df = pd.read_html('https://space-facts.com/mars/')[0]"
   ]
  },
  {
   "cell_type": "code",
   "execution_count": 10,
   "metadata": {},
   "outputs": [],
   "source": [
    "# transform dataframe for website\n",
    "fact_df.columns = ['Description', 'Mars']\n",
    "fact_df.set_index('Description', inplace = True)"
   ]
  },
  {
   "cell_type": "code",
   "execution_count": 11,
   "metadata": {},
   "outputs": [],
   "source": [
    "# convert dataframe to html\n",
    "fact_html = fact_df.to_html(index = False, header = False)"
   ]
  },
  {
   "cell_type": "markdown",
   "metadata": {},
   "source": [
    "###### Mars Hemispheres"
   ]
  },
  {
   "cell_type": "code",
   "execution_count": 12,
   "metadata": {},
   "outputs": [],
   "source": [
    "# navigate browser to url\n",
    "browser.visit('https://astrogeology.usgs.gov/search/results?q=hemisphere+enhanced&k1=target&v1=Mars')\n",
    "\n",
    "# delay to allow time for page to load\n",
    "time.sleep(5)\n",
    "\n",
    "# create beautifulsoup object\n",
    "soup = BeautifulSoup(browser.html, 'html.parser')"
   ]
  },
  {
   "cell_type": "code",
   "execution_count": 13,
   "metadata": {},
   "outputs": [],
   "source": [
    "# grab hemisphere HTML elements\n",
    "results = soup.find_all('div', class_ = 'item')"
   ]
  },
  {
   "cell_type": "code",
   "execution_count": 14,
   "metadata": {},
   "outputs": [],
   "source": [
    "core_url = 'https://astrogeology.usgs.gov'\n",
    "hemisphere_image_urls = []\n",
    "# Loop through each hemisphere item\n",
    "for item in results:\n",
    "    # Error handling\n",
    "    try:\n",
    "        # Extract title\n",
    "        hemi = item.find('div', class_ = 'description')\n",
    "        title = hemi.h3.text\n",
    "        # Extract image url\n",
    "        hemi_url = hemi.a['href']\n",
    "        browser.visit(core_url + hemi_url)\n",
    "        soup = BeautifulSoup(browser.html, 'html.parser')\n",
    "        image_src = soup.find('li').a['href']\n",
    "        # Create dictionary for title and url\n",
    "        hemi_dict = {'title' : title, 'image_url' : image_src}\n",
    "        hemisphere_image_urls.append(hemi_dict)\n",
    "    except Exception as e:\n",
    "        print(e)"
   ]
  },
  {
   "cell_type": "code",
   "execution_count": 15,
   "metadata": {},
   "outputs": [],
   "source": [
    "# close browser\n",
    "browser.quit()"
   ]
  }
 ],
 "metadata": {
  "kernelspec": {
   "display_name": "Python 3",
   "language": "python",
   "name": "python3"
  },
  "language_info": {
   "codemirror_mode": {
    "name": "ipython",
    "version": 3
   },
   "file_extension": ".py",
   "mimetype": "text/x-python",
   "name": "python",
   "nbconvert_exporter": "python",
   "pygments_lexer": "ipython3",
   "version": "3.8.5"
  }
 },
 "nbformat": 4,
 "nbformat_minor": 4
}
